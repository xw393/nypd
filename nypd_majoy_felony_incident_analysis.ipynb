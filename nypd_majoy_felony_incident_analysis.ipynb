{
 "cells": [
  {
   "cell_type": "code",
   "execution_count": 1,
   "metadata": {},
   "outputs": [],
   "source": [
    "import pandas as pd\n",
    "import numpy as np\n",
    "import sklearn"
   ]
  },
  {
   "cell_type": "code",
   "execution_count": 2,
   "metadata": {},
   "outputs": [],
   "source": [
    "from sklearn import preprocessing"
   ]
  },
  {
   "cell_type": "code",
   "execution_count": 3,
   "metadata": {},
   "outputs": [],
   "source": [
    "from sklearn.ensemble import RandomForestClassifier"
   ]
  },
  {
   "cell_type": "code",
   "execution_count": 4,
   "metadata": {},
   "outputs": [],
   "source": [
    "from sklearn.base import BaseEstimator, TransformerMixin"
   ]
  },
  {
   "cell_type": "code",
   "execution_count": 5,
   "metadata": {},
   "outputs": [],
   "source": [
    "from sklearn.pipeline import Pipeline, FeatureUnion"
   ]
  },
  {
   "cell_type": "code",
   "execution_count": 6,
   "metadata": {},
   "outputs": [],
   "source": [
    "def format_column_name(df):\n",
    "    \"\"\" replace ' ' with '_' in all column names.\n",
    "    param:\n",
    "    -----\n",
    "        df: DataFrame.columns\n",
    "        \n",
    "    returnL\n",
    "        column_names_format: DataFrame.columns, formated column names.\n",
    "    \"\"\"\n",
    "    column_names_format = df.columns.str.replace(' ', '_')\n",
    "    return column_names_format"
   ]
  },
  {
   "cell_type": "code",
   "execution_count": 7,
   "metadata": {},
   "outputs": [],
   "source": [
    "class DataFrameSelector(BaseEstimator, TransformerMixin):\n",
    "    def __init__(self, attribute_names):\n",
    "        self.attribute_names = attribute_names\n",
    "    \n",
    "    def fit(self, X):\n",
    "        return self\n",
    "    \n",
    "    def transform(self, X):\n",
    "        return X[self.attribute_names].values"
   ]
  },
  {
   "cell_type": "code",
   "execution_count": 8,
   "metadata": {},
   "outputs": [],
   "source": [
    "train = pd.read_csv('NYPD_7_Major_Felony_Incidents_train.csv')"
   ]
  },
  {
   "cell_type": "code",
   "execution_count": 9,
   "metadata": {},
   "outputs": [],
   "source": [
    "test = pd.read_csv('NYPD_7_Major_Felony_Incidents_test.csv')"
   ]
  },
  {
   "cell_type": "code",
   "execution_count": 11,
   "metadata": {},
   "outputs": [],
   "source": [
    "train.columns = format_column_name(train)"
   ]
  },
  {
   "cell_type": "code",
   "execution_count": 12,
   "metadata": {},
   "outputs": [],
   "source": [
    "test.columns = format_column_name(test)"
   ]
  },
  {
   "cell_type": "code",
   "execution_count": null,
   "metadata": {},
   "outputs": [],
   "source": []
  },
  {
   "cell_type": "code",
   "execution_count": 13,
   "metadata": {},
   "outputs": [],
   "source": [
    "cat_attributes = ['Day_of_Week', 'Occurrence_Month', 'Sector', 'Borough']"
   ]
  },
  {
   "cell_type": "code",
   "execution_count": 14,
   "metadata": {},
   "outputs": [],
   "source": [
    "num_attributes = ['Occurrence_Day', 'Occurrence_Year', 'Occurrence_Hour', 'CompStat_Month', 'CompStat_Day']"
   ]
  },
  {
   "cell_type": "code",
   "execution_count": 150,
   "metadata": {},
   "outputs": [
    {
     "data": {
      "text/html": [
       "<div>\n",
       "<style>\n",
       "    .dataframe thead tr:only-child th {\n",
       "        text-align: right;\n",
       "    }\n",
       "\n",
       "    .dataframe thead th {\n",
       "        text-align: left;\n",
       "    }\n",
       "\n",
       "    .dataframe tbody tr th {\n",
       "        vertical-align: top;\n",
       "    }\n",
       "</style>\n",
       "<table border=\"1\" class=\"dataframe\">\n",
       "  <thead>\n",
       "    <tr style=\"text-align: right;\">\n",
       "      <th></th>\n",
       "      <th>Identifier</th>\n",
       "      <th>Occurrence_Datetime</th>\n",
       "      <th>Day_of_Week</th>\n",
       "      <th>Occurrence_Month</th>\n",
       "      <th>Occurrence_Day</th>\n",
       "      <th>Occurrence_Year</th>\n",
       "      <th>Occurrence_Hour</th>\n",
       "      <th>CompStat_Month</th>\n",
       "      <th>CompStat_Day</th>\n",
       "      <th>CompStat_Year</th>\n",
       "      <th>Offense</th>\n",
       "      <th>Sector</th>\n",
       "      <th>Precinct</th>\n",
       "      <th>Borough</th>\n",
       "      <th>Jurisdiction</th>\n",
       "      <th>XCoordinate</th>\n",
       "      <th>YCoordinate</th>\n",
       "      <th>Location_1</th>\n",
       "      <th>Occurrence_Date</th>\n",
       "    </tr>\n",
       "  </thead>\n",
       "  <tbody>\n",
       "    <tr>\n",
       "      <th>0</th>\n",
       "      <td>4eaf2b62</td>\n",
       "      <td>02/13/2013 12:00:00 AM</td>\n",
       "      <td>Wednesday</td>\n",
       "      <td>Feb</td>\n",
       "      <td>13</td>\n",
       "      <td>2013</td>\n",
       "      <td>0</td>\n",
       "      <td>2</td>\n",
       "      <td>14</td>\n",
       "      <td>2013</td>\n",
       "      <td>GRAND LARCENY</td>\n",
       "      <td>H</td>\n",
       "      <td>13</td>\n",
       "      <td>MANHATTAN</td>\n",
       "      <td>N.Y. POLICE DEPT</td>\n",
       "      <td>985716</td>\n",
       "      <td>209911</td>\n",
       "      <td>(40.7428419120001, -73.9947109889999)</td>\n",
       "      <td>2013-02-13</td>\n",
       "    </tr>\n",
       "    <tr>\n",
       "      <th>1</th>\n",
       "      <td>cacec67c</td>\n",
       "      <td>02/13/2013 12:00:00 AM</td>\n",
       "      <td>Wednesday</td>\n",
       "      <td>Feb</td>\n",
       "      <td>13</td>\n",
       "      <td>2013</td>\n",
       "      <td>0</td>\n",
       "      <td>5</td>\n",
       "      <td>20</td>\n",
       "      <td>2013</td>\n",
       "      <td>GRAND LARCENY</td>\n",
       "      <td>I</td>\n",
       "      <td>52</td>\n",
       "      <td>BRONX</td>\n",
       "      <td>N.Y. POLICE DEPT</td>\n",
       "      <td>1016552</td>\n",
       "      <td>260706</td>\n",
       "      <td>(40.88220104, -73.88318653)</td>\n",
       "      <td>2013-02-13</td>\n",
       "    </tr>\n",
       "    <tr>\n",
       "      <th>2</th>\n",
       "      <td>ca4bc93e</td>\n",
       "      <td>02/13/2013 12:01:00 AM</td>\n",
       "      <td>Wednesday</td>\n",
       "      <td>Feb</td>\n",
       "      <td>13</td>\n",
       "      <td>2013</td>\n",
       "      <td>0</td>\n",
       "      <td>2</td>\n",
       "      <td>13</td>\n",
       "      <td>2013</td>\n",
       "      <td>FELONY ASSAULT</td>\n",
       "      <td>A</td>\n",
       "      <td>100</td>\n",
       "      <td>QUEENS</td>\n",
       "      <td>N.Y. POLICE DEPT</td>\n",
       "      <td>1041165</td>\n",
       "      <td>155066</td>\n",
       "      <td>(40.592122008, -73.795071599)</td>\n",
       "      <td>2013-02-13</td>\n",
       "    </tr>\n",
       "    <tr>\n",
       "      <th>3</th>\n",
       "      <td>19f9636c</td>\n",
       "      <td>02/13/2013 12:05:00 AM</td>\n",
       "      <td>Wednesday</td>\n",
       "      <td>Feb</td>\n",
       "      <td>13</td>\n",
       "      <td>2013</td>\n",
       "      <td>0</td>\n",
       "      <td>2</td>\n",
       "      <td>13</td>\n",
       "      <td>2013</td>\n",
       "      <td>FELONY ASSAULT</td>\n",
       "      <td>H</td>\n",
       "      <td>62</td>\n",
       "      <td>BROOKLYN</td>\n",
       "      <td>N.Y. POLICE DEPT</td>\n",
       "      <td>984298</td>\n",
       "      <td>163775</td>\n",
       "      <td>(40.61620917, -73.999828549)</td>\n",
       "      <td>2013-02-13</td>\n",
       "    </tr>\n",
       "    <tr>\n",
       "      <th>4</th>\n",
       "      <td>629302ce</td>\n",
       "      <td>02/13/2013 12:05:00 AM</td>\n",
       "      <td>Wednesday</td>\n",
       "      <td>Feb</td>\n",
       "      <td>13</td>\n",
       "      <td>2013</td>\n",
       "      <td>0</td>\n",
       "      <td>2</td>\n",
       "      <td>13</td>\n",
       "      <td>2013</td>\n",
       "      <td>FELONY ASSAULT</td>\n",
       "      <td>D</td>\n",
       "      <td>52</td>\n",
       "      <td>BRONX</td>\n",
       "      <td>N.Y. POLICE DEPT</td>\n",
       "      <td>1013228</td>\n",
       "      <td>253750</td>\n",
       "      <td>(40.863120505, -73.8952373069999)</td>\n",
       "      <td>2013-02-13</td>\n",
       "    </tr>\n",
       "  </tbody>\n",
       "</table>\n",
       "</div>"
      ],
      "text/plain": [
       "  Identifier     Occurrence_Datetime Day_of_Week Occurrence_Month  \\\n",
       "0   4eaf2b62  02/13/2013 12:00:00 AM   Wednesday              Feb   \n",
       "1   cacec67c  02/13/2013 12:00:00 AM   Wednesday              Feb   \n",
       "2   ca4bc93e  02/13/2013 12:01:00 AM   Wednesday              Feb   \n",
       "3   19f9636c  02/13/2013 12:05:00 AM   Wednesday              Feb   \n",
       "4   629302ce  02/13/2013 12:05:00 AM   Wednesday              Feb   \n",
       "\n",
       "   Occurrence_Day  Occurrence_Year  Occurrence_Hour  CompStat_Month  \\\n",
       "0              13             2013                0               2   \n",
       "1              13             2013                0               5   \n",
       "2              13             2013                0               2   \n",
       "3              13             2013                0               2   \n",
       "4              13             2013                0               2   \n",
       "\n",
       "   CompStat_Day  CompStat_Year         Offense Sector  Precinct    Borough  \\\n",
       "0            14           2013   GRAND LARCENY      H        13  MANHATTAN   \n",
       "1            20           2013   GRAND LARCENY      I        52      BRONX   \n",
       "2            13           2013  FELONY ASSAULT      A       100     QUEENS   \n",
       "3            13           2013  FELONY ASSAULT      H        62   BROOKLYN   \n",
       "4            13           2013  FELONY ASSAULT      D        52      BRONX   \n",
       "\n",
       "       Jurisdiction  XCoordinate  YCoordinate  \\\n",
       "0  N.Y. POLICE DEPT       985716       209911   \n",
       "1  N.Y. POLICE DEPT      1016552       260706   \n",
       "2  N.Y. POLICE DEPT      1041165       155066   \n",
       "3  N.Y. POLICE DEPT       984298       163775   \n",
       "4  N.Y. POLICE DEPT      1013228       253750   \n",
       "\n",
       "                              Location_1 Occurrence_Date  \n",
       "0  (40.7428419120001, -73.9947109889999)      2013-02-13  \n",
       "1            (40.88220104, -73.88318653)      2013-02-13  \n",
       "2          (40.592122008, -73.795071599)      2013-02-13  \n",
       "3           (40.61620917, -73.999828549)      2013-02-13  \n",
       "4      (40.863120505, -73.8952373069999)      2013-02-13  "
      ]
     },
     "execution_count": 150,
     "metadata": {},
     "output_type": "execute_result"
    }
   ],
   "source": [
    "train.head(5)"
   ]
  },
  {
   "cell_type": "code",
   "execution_count": 15,
   "metadata": {},
   "outputs": [],
   "source": [
    "import numpy as np"
   ]
  },
  {
   "cell_type": "markdown",
   "metadata": {},
   "source": [
    "#### Dataset Processing"
   ]
  },
  {
   "cell_type": "markdown",
   "metadata": {},
   "source": [
    "1. Imbalanced data set"
   ]
  },
  {
   "cell_type": "code",
   "execution_count": 225,
   "metadata": {},
   "outputs": [],
   "source": [
    "class_stat = pd.DataFrame({'crime_type': train['Offense'].unique(), \n",
    "                   'num': train['Offense'].value_counts().tolist()})"
   ]
  },
  {
   "cell_type": "code",
   "execution_count": 226,
   "metadata": {},
   "outputs": [],
   "source": [
    "class_stat['ratio'] = class_stat.num/train.shape[0]"
   ]
  },
  {
   "cell_type": "code",
   "execution_count": 227,
   "metadata": {},
   "outputs": [],
   "source": [
    "max_class_size = class_stat.num.max()"
   ]
  },
  {
   "cell_type": "code",
   "execution_count": 236,
   "metadata": {},
   "outputs": [],
   "source": [
    "minor_class = class_stat.crime_type.loc[class_stat.num < max_class_size].tolist()"
   ]
  },
  {
   "cell_type": "code",
   "execution_count": 265,
   "metadata": {},
   "outputs": [],
   "source": [
    "minor_df_list = []"
   ]
  },
  {
   "cell_type": "code",
   "execution_count": 239,
   "metadata": {},
   "outputs": [],
   "source": [
    "from sklearn.utils import resample"
   ]
  },
  {
   "cell_type": "code",
   "execution_count": 267,
   "metadata": {},
   "outputs": [],
   "source": [
    "for item in minor_class:\n",
    "    temp_minor_upsample_df = resample(train[train.Offense == item],\n",
    "                                      replace=True,\n",
    "                                      n_samples = max_class_size,\n",
    "                                      random_state = 666)\n",
    "    minor_df_list.append(temp_minor_upsample_df)"
   ]
  },
  {
   "cell_type": "code",
   "execution_count": 269,
   "metadata": {},
   "outputs": [],
   "source": [
    "df_major = train[train.Offense == class_stat.crime_type[class_stat.num == max_class_size].item()]"
   ]
  },
  {
   "cell_type": "code",
   "execution_count": 270,
   "metadata": {},
   "outputs": [],
   "source": [
    "minor_df_list.append(df_major)"
   ]
  },
  {
   "cell_type": "code",
   "execution_count": 272,
   "metadata": {},
   "outputs": [],
   "source": [
    "df_upsampled = pd.concat(minor_df_list)"
   ]
  },
  {
   "cell_type": "code",
   "execution_count": 273,
   "metadata": {},
   "outputs": [],
   "source": [
    "df_upsampled.reset_index(drop=True, inplace=True)"
   ]
  },
  {
   "cell_type": "markdown",
   "metadata": {},
   "source": [
    "__note:__ After using resampling technique, the training set is balanced."
   ]
  },
  {
   "cell_type": "code",
   "execution_count": 274,
   "metadata": {},
   "outputs": [
    {
     "data": {
      "text/plain": [
       "GRAND LARCENY                     87261\n",
       "RAPE                              87261\n",
       "ROBBERY                           87261\n",
       "GRAND LARCENY OF MOTOR VEHICLE    87261\n",
       "FELONY ASSAULT                    87261\n",
       "MURDER & NON-NEGL. MANSLAUGHTE    87261\n",
       "BURGLARY                          87261\n",
       "Name: Offense, dtype: int64"
      ]
     },
     "execution_count": 274,
     "metadata": {},
     "output_type": "execute_result"
    }
   ],
   "source": [
    "df_upsampled.Offense.value_counts()"
   ]
  },
  {
   "cell_type": "markdown",
   "metadata": {},
   "source": [
    "#### Feature Engineering"
   ]
  },
  {
   "cell_type": "code",
   "execution_count": 275,
   "metadata": {},
   "outputs": [],
   "source": [
    "class MultiColumnEncoder(BaseEstimator, TransformerMixin):\n",
    "    def __init__(self, encoder):\n",
    "        self.encoder = encoder\n",
    "        \n",
    "    def fit(self, X):\n",
    "        return self\n",
    "    \n",
    "    def transform(self, X):\n",
    "        feature_list = []\n",
    "        for i in range(X.shape[1]):\n",
    "            feature_list.append(self.encoder.fit_transform(X[:, i]))\n",
    "        \n",
    "        if isinstance(self.encoder, preprocessing.LabelBinarizer):\n",
    "            return np.concatenate(feature_list, axis = 1)\n",
    "        else:\n",
    "            return np.mat(feature_list).transpose()"
   ]
  },
  {
   "cell_type": "code",
   "execution_count": 276,
   "metadata": {},
   "outputs": [],
   "source": [
    "cat_pipeline = Pipeline([('selector', DataFrameSelector(cat_attributes)),\n",
    "                         ('encoder', MultiColumnEncoder(preprocessing.LabelEncoder()))])"
   ]
  },
  {
   "cell_type": "code",
   "execution_count": 156,
   "metadata": {},
   "outputs": [],
   "source": [
    "num_pipeline = Pipeline([('selector', DataFrameSelector(num_attributes)),\n",
    "                         ('scaler', preprocessing.StandardScaler())])"
   ]
  },
  {
   "cell_type": "code",
   "execution_count": 277,
   "metadata": {},
   "outputs": [],
   "source": [
    "num_pipeline = Pipeline([('selector', DataFrameSelector(num_attributes)),])"
   ]
  },
  {
   "cell_type": "code",
   "execution_count": 278,
   "metadata": {},
   "outputs": [],
   "source": [
    "full_pipeline = FeatureUnion(transformer_list=[('cat_pipeline', cat_pipeline),\n",
    "                                               ('num_pipeline', num_pipeline)])"
   ]
  },
  {
   "cell_type": "code",
   "execution_count": 279,
   "metadata": {},
   "outputs": [],
   "source": [
    "X = full_pipeline.fit_transform(df_upsampled)"
   ]
  },
  {
   "cell_type": "code",
   "execution_count": 280,
   "metadata": {},
   "outputs": [],
   "source": [
    "label_encoder = preprocessing.LabelEncoder()"
   ]
  },
  {
   "cell_type": "code",
   "execution_count": 282,
   "metadata": {},
   "outputs": [],
   "source": [
    "y = label_encoder.fit_transform(df_upsampled['Offense'].values)"
   ]
  },
  {
   "cell_type": "code",
   "execution_count": 286,
   "metadata": {},
   "outputs": [],
   "source": [
    "test_X = full_pipeline.fit_transform(test)"
   ]
  },
  {
   "cell_type": "code",
   "execution_count": 287,
   "metadata": {},
   "outputs": [],
   "source": [
    "test_y = label_encoder.fit_transform(test['Offense'].values)"
   ]
  },
  {
   "cell_type": "code",
   "execution_count": 312,
   "metadata": {},
   "outputs": [],
   "source": [
    "random_forest = RandomForestClassifier(max_features=0.8)"
   ]
  },
  {
   "cell_type": "code",
   "execution_count": 313,
   "metadata": {},
   "outputs": [
    {
     "data": {
      "text/plain": [
       "RandomForestClassifier(bootstrap=True, class_weight=None, criterion='gini',\n",
       "            max_depth=None, max_features=0.8, max_leaf_nodes=None,\n",
       "            min_impurity_decrease=0.0, min_impurity_split=None,\n",
       "            min_samples_leaf=1, min_samples_split=2,\n",
       "            min_weight_fraction_leaf=0.0, n_estimators=10, n_jobs=1,\n",
       "            oob_score=False, random_state=None, verbose=0,\n",
       "            warm_start=False)"
      ]
     },
     "execution_count": 313,
     "metadata": {},
     "output_type": "execute_result"
    }
   ],
   "source": [
    "random_forest.fit(X=X, y=y)"
   ]
  },
  {
   "cell_type": "code",
   "execution_count": 314,
   "metadata": {},
   "outputs": [
    {
     "data": {
      "text/plain": [
       "0.97827044318604117"
      ]
     },
     "execution_count": 314,
     "metadata": {},
     "output_type": "execute_result"
    }
   ],
   "source": [
    "y_train_pred = random_forest.predict(X=X)\n",
    "sklearn.metrics.accuracy_score(y_pred=y_train_pred, y_true=y)"
   ]
  },
  {
   "cell_type": "code",
   "execution_count": 315,
   "metadata": {},
   "outputs": [],
   "source": [
    "y_test_pred = random_forest.predict(X=test_X) "
   ]
  },
  {
   "cell_type": "code",
   "execution_count": 316,
   "metadata": {},
   "outputs": [],
   "source": [
    "pred_series = pd.DataFrame({'y_pred': y_test_pred, 'y_true': test_y})"
   ]
  },
  {
   "cell_type": "code",
   "execution_count": 317,
   "metadata": {},
   "outputs": [],
   "source": [
    "pred_series['is_right'] = (pred_series.y_pred == pred_series.y_true)"
   ]
  },
  {
   "cell_type": "code",
   "execution_count": 320,
   "metadata": {},
   "outputs": [
    {
     "data": {
      "text/plain": [
       "0.30359148699291244"
      ]
     },
     "execution_count": 320,
     "metadata": {},
     "output_type": "execute_result"
    }
   ],
   "source": [
    "sklearn.metrics.accuracy_score(y_pred=y_test_pred, y_true=test_y)"
   ]
  },
  {
   "cell_type": "code",
   "execution_count": 50,
   "metadata": {},
   "outputs": [],
   "source": [
    "from sklearn.model_selection import GridSearchCV"
   ]
  },
  {
   "cell_type": "code",
   "execution_count": null,
   "metadata": {},
   "outputs": [],
   "source": [
    "range(np.sqrt(17))"
   ]
  },
  {
   "cell_type": "code",
   "execution_count": 2,
   "metadata": {},
   "outputs": [],
   "source": [
    "import numpy as np"
   ]
  },
  {
   "cell_type": "code",
   "execution_count": 9,
   "metadata": {},
   "outputs": [
    {
     "data": {
      "text/plain": [
       "[4, 5, 6, 7, 8, 9, 10, 11, 12, 13, 14, 15, 16]"
      ]
     },
     "execution_count": 9,
     "metadata": {},
     "output_type": "execute_result"
    }
   ],
   "source": [
    "list(range(np.int(np.sqrt(17)), 17))"
   ]
  },
  {
   "cell_type": "code",
   "execution_count": 99,
   "metadata": {},
   "outputs": [],
   "source": [
    "param_grid = [{'n_estimators': [3, 10, 30],\n",
    "               'max_features': [2, 4, 6, 8],\n",
    "               'n_jobs': [-1]}，\n",
    "              {'bootstrap': [False], \n",
    "               'n_estimators': [3, 10], \n",
    "               'max_features': [5, 7, 9],\n",
    "               'n_jobs': [-1]}]"
   ]
  },
  {
   "cell_type": "code",
   "execution_count": 94,
   "metadata": {},
   "outputs": [],
   "source": [
    "random_forest = RandomForestClassifier()"
   ]
  },
  {
   "cell_type": "code",
   "execution_count": 100,
   "metadata": {},
   "outputs": [],
   "source": [
    "grid_search = GridSearchCV(estimator=random_forest, param_grid=param_grid, cv=10, scoring='accuracy')"
   ]
  },
  {
   "cell_type": "code",
   "execution_count": 101,
   "metadata": {},
   "outputs": [
    {
     "data": {
      "text/plain": [
       "GridSearchCV(cv=10, error_score='raise',\n",
       "       estimator=RandomForestClassifier(bootstrap=True, class_weight=None, criterion='gini',\n",
       "            max_depth=None, max_features='auto', max_leaf_nodes=None,\n",
       "            min_impurity_decrease=0.0, min_impurity_split=None,\n",
       "            min_samples_leaf=1, min_samples_split=2,\n",
       "            min_weight_fraction_leaf=0.0, n_estimators=10, n_jobs=1,\n",
       "            oob_score=False, random_state=None, verbose=0,\n",
       "            warm_start=False),\n",
       "       fit_params=None, iid=True, n_jobs=1,\n",
       "       param_grid=[{'n_estimators': [3, 10, 30], 'max_features': [2, 4, 6, 8], 'n_jobs': [-1]}, {'bootstrap': [False], 'n_estimators': [3, 10], 'max_features': [5, 7, 9], 'n_jobs': [-1]}],\n",
       "       pre_dispatch='2*n_jobs', refit=True, return_train_score=True,\n",
       "       scoring='accuracy', verbose=0)"
      ]
     },
     "execution_count": 101,
     "metadata": {},
     "output_type": "execute_result"
    }
   ],
   "source": [
    "grid_search.fit(X, y)"
   ]
  },
  {
   "cell_type": "code",
   "execution_count": 82,
   "metadata": {},
   "outputs": [
    {
     "data": {
      "text/plain": [
       "RandomForestClassifier(bootstrap=True, class_weight=None, criterion='gini',\n",
       "            max_depth=None, max_features='auto', max_leaf_nodes=None,\n",
       "            min_impurity_decrease=0.0, min_impurity_split=None,\n",
       "            min_samples_leaf=1, min_samples_split=2,\n",
       "            min_weight_fraction_leaf=0.0, n_estimators=10, n_jobs=-1,\n",
       "            oob_score=False, random_state=None, verbose=0,\n",
       "            warm_start=False)"
      ]
     },
     "execution_count": 82,
     "metadata": {},
     "output_type": "execute_result"
    }
   ],
   "source": [
    "sample_estimator.fit(X=X, y=y)"
   ]
  },
  {
   "cell_type": "code",
   "execution_count": 151,
   "metadata": {},
   "outputs": [],
   "source": [
    "best_est = grid_search.best_estimator_"
   ]
  },
  {
   "cell_type": "code",
   "execution_count": 113,
   "metadata": {},
   "outputs": [
    {
     "data": {
      "text/plain": [
       "array([ 0.08460287,  0.07717192,  0.19706878,  0.03416678,  0.15171369,\n",
       "        0.03840877,  0.15050104,  0.07888611,  0.18748004])"
      ]
     },
     "execution_count": 113,
     "metadata": {},
     "output_type": "execute_result"
    }
   ],
   "source": [
    "best_est.feature_importances_"
   ]
  },
  {
   "cell_type": "code",
   "execution_count": 148,
   "metadata": {},
   "outputs": [],
   "source": [
    "res = pd.DataFrame(grid_search.cv_results_)"
   ]
  },
  {
   "cell_type": "code",
   "execution_count": 166,
   "metadata": {},
   "outputs": [
    {
     "data": {
      "text/plain": [
       "0.38083382860137865"
      ]
     },
     "execution_count": 166,
     "metadata": {},
     "output_type": "execute_result"
    }
   ],
   "source": [
    "grid_search.best_score_"
   ]
  },
  {
   "cell_type": "code",
   "execution_count": 163,
   "metadata": {},
   "outputs": [],
   "source": [
    "y_test_pred = best_est.predict(test_X)"
   ]
  },
  {
   "cell_type": "code",
   "execution_count": 165,
   "metadata": {},
   "outputs": [
    {
     "data": {
      "text/plain": [
       "0.35203133231940675"
      ]
     },
     "execution_count": 165,
     "metadata": {},
     "output_type": "execute_result"
    }
   ],
   "source": [
    "sklearn.metrics.accuracy_score(y_pred=y_test_pred, y_true=test_y)"
   ]
  },
  {
   "cell_type": "code",
   "execution_count": null,
   "metadata": {},
   "outputs": [],
   "source": []
  }
 ],
 "metadata": {
  "kernelspec": {
   "display_name": "python36",
   "language": "python",
   "name": "python36"
  },
  "language_info": {
   "codemirror_mode": {
    "name": "ipython",
    "version": 3
   },
   "file_extension": ".py",
   "mimetype": "text/x-python",
   "name": "python",
   "nbconvert_exporter": "python",
   "pygments_lexer": "ipython3",
   "version": "3.6.2"
  }
 },
 "nbformat": 4,
 "nbformat_minor": 2
}
